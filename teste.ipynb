{
 "cells": [
  {
   "cell_type": "code",
   "execution_count": 1,
   "metadata": {},
   "outputs": [],
   "source": [
    "def validadorDeCPF(numeroSTR):\n",
    "    n10 = 10\n",
    "    n11 = 11\n",
    "    soma1 = 0\n",
    "    soma2 = 0\n",
    "    for char in numeroSTR[:9]:\n",
    "        soma1 += int(char) * n10\n",
    "        n10 -= 1\n",
    "    \n",
    "    validacao1 = soma1 * 10\n",
    "    validacao1 = validacao1 % 11\n",
    "    if  validacao1 != int(numeroSTR[9:10]):\n",
    "        return False\n",
    "    \n",
    "    for char in numeroSTR[:10]:\n",
    "        soma2 += int(char) * n11\n",
    "        n11 -= 1\n",
    "    \n",
    "    validacao2 = soma2 * 10\n",
    "    validacao2 = validacao2 % 11\n",
    "    if  validacao2 != int(numeroSTR[10:11]):\n",
    "        return False\n",
    "    else:\n",
    "\t    return True"
   ]
  },
  {
   "cell_type": "code",
   "execution_count": 2,
   "metadata": {},
   "outputs": [
    {
     "data": {
      "text/plain": [
       "True"
      ]
     },
     "execution_count": 2,
     "metadata": {},
     "output_type": "execute_result"
    }
   ],
   "source": [
    "validadorDeCPF('22946016889')"
   ]
  },
  {
   "cell_type": "code",
   "execution_count": 3,
   "metadata": {},
   "outputs": [
    {
     "data": {
      "text/plain": [
       "True"
      ]
     },
     "execution_count": 3,
     "metadata": {},
     "output_type": "execute_result"
    }
   ],
   "source": [
    "validadorDeCPF('18267588876')"
   ]
  },
  {
   "cell_type": "code",
   "execution_count": 4,
   "metadata": {},
   "outputs": [
    {
     "data": {
      "text/plain": [
       "False"
      ]
     },
     "execution_count": 4,
     "metadata": {},
     "output_type": "execute_result"
    }
   ],
   "source": [
    "validadorDeCPF('12345678925')"
   ]
  },
  {
   "cell_type": "code",
   "execution_count": null,
   "metadata": {},
   "outputs": [],
   "source": []
  }
 ],
 "metadata": {
  "kernelspec": {
   "display_name": "Python 3",
   "language": "python",
   "name": "python3"
  },
  "language_info": {
   "codemirror_mode": {
    "name": "ipython",
    "version": 3
   },
   "file_extension": ".py",
   "mimetype": "text/x-python",
   "name": "python",
   "nbconvert_exporter": "python",
   "pygments_lexer": "ipython3",
   "version": "3.12.4"
  }
 },
 "nbformat": 4,
 "nbformat_minor": 2
}
